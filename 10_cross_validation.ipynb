{
  "nbformat": 4,
  "nbformat_minor": 0,
  "metadata": {
    "colab": {
      "provenance": []
    },
    "kernelspec": {
      "name": "python3",
      "display_name": "Python 3"
    },
    "language_info": {
      "name": "python"
    }
  },
  "cells": [
    {
      "cell_type": "markdown",
      "source": [
        "#### 교차검증\n",
        "훈련세트에서 검증세트를 분할하여 평가하는 과정을 반복하는 방식\n",
        "\n",
        "k-폴드 교차 검증\n"
      ],
      "metadata": {
        "id": "kjJWxjRY7Sra"
      }
    },
    {
      "cell_type": "code",
      "execution_count": 1,
      "metadata": {
        "id": "1xKK_D-s6yIA"
      },
      "outputs": [],
      "source": [
        "import pandas as pd\n",
        "wine = pd.read_csv('https://bit.ly/wine_csv_data')"
      ]
    },
    {
      "cell_type": "code",
      "source": [
        "data = wine[['alcohol', 'sugar', 'pH']].to_numpy()\n",
        "target = wine['class'].to_numpy()"
      ],
      "metadata": {
        "id": "v851Kac27BSr"
      },
      "execution_count": 2,
      "outputs": []
    },
    {
      "cell_type": "code",
      "source": [
        "from sklearn.model_selection import train_test_split\n",
        "\n",
        "train_input, test_input, train_target, test_target = train_test_split(\n",
        "    data, target, test_size=0.2, random_state=42)"
      ],
      "metadata": {
        "id": "5S0vz4Cv7rag"
      },
      "execution_count": 3,
      "outputs": []
    },
    {
      "cell_type": "code",
      "source": [
        "sub_input, val_input, sub_target, val_target = train_test_split(\n",
        "    train_input, train_target, test_size=0.2, random_state=42)"
      ],
      "metadata": {
        "id": "XfzmV0mj7xwj"
      },
      "execution_count": 4,
      "outputs": []
    },
    {
      "cell_type": "code",
      "source": [
        "print(sub_input.shape, val_input.shape)"
      ],
      "metadata": {
        "colab": {
          "base_uri": "https://localhost:8080/"
        },
        "id": "kgnJRx2b758S",
        "outputId": "d9f88430-d11d-471c-97cc-b1db31993e98"
      },
      "execution_count": 5,
      "outputs": [
        {
          "output_type": "stream",
          "name": "stdout",
          "text": [
            "(4157, 3) (1040, 3)\n"
          ]
        }
      ]
    },
    {
      "cell_type": "code",
      "source": [
        "from sklearn.tree import DecisionTreeClassifier\n",
        "\n",
        "dt = DecisionTreeClassifier(random_state=42)\n",
        "dt.fit(sub_input, sub_target)\n",
        "\n",
        "print(dt.score(sub_input, sub_target))\n",
        "print(dt.score(val_input, val_target))"
      ],
      "metadata": {
        "colab": {
          "base_uri": "https://localhost:8080/"
        },
        "id": "M_qOBOAD76aC",
        "outputId": "e5df350f-4228-4282-fa44-8439f8a9cb68"
      },
      "execution_count": 6,
      "outputs": [
        {
          "output_type": "stream",
          "name": "stdout",
          "text": [
            "0.9971133028626413\n",
            "0.864423076923077\n"
          ]
        }
      ]
    },
    {
      "cell_type": "markdown",
      "source": [
        "####교차 검증 구현\n",
        "- cross_validate() : 교차검증함수\n",
        "  - 매개변수 :\n",
        "  - 회귀모델 : k-fold 분할기\n",
        "  - 분류모델:  StratifiedFold 분할기"
      ],
      "metadata": {
        "id": "RCMs2Yjz8FQo"
      }
    },
    {
      "cell_type": "code",
      "source": [
        "from sklearn.model_selection import cross_validate\n",
        "\n",
        "scores = cross_validate(dt, train_input, train_target)\n",
        "print(scores)"
      ],
      "metadata": {
        "colab": {
          "base_uri": "https://localhost:8080/"
        },
        "id": "s7Sk6e5_78pr",
        "outputId": "d027fd6a-650e-4613-ad69-f5688d0dee28"
      },
      "execution_count": 7,
      "outputs": [
        {
          "output_type": "stream",
          "name": "stdout",
          "text": [
            "{'fit_time': array([0.01228666, 0.01009226, 0.01159787, 0.0127492 , 0.01009631]), 'score_time': array([0.00148225, 0.00142932, 0.00182366, 0.00179696, 0.00147963]), 'test_score': array([0.86923077, 0.84615385, 0.87680462, 0.84889317, 0.83541867])}\n"
          ]
        }
      ]
    },
    {
      "cell_type": "code",
      "source": [
        "import numpy as np\n",
        "\n",
        "print(scores['test_score'])\n",
        "print(np.mean(scores['test_score']))"
      ],
      "metadata": {
        "colab": {
          "base_uri": "https://localhost:8080/"
        },
        "id": "uZgYj-cF8oG7",
        "outputId": "d0b18801-84b3-4c37-a986-12ef3b3e93b3"
      },
      "execution_count": 8,
      "outputs": [
        {
          "output_type": "stream",
          "name": "stdout",
          "text": [
            "[0.86923077 0.84615385 0.87680462 0.84889317 0.83541867]\n",
            "0.855300214703487\n"
          ]
        }
      ]
    },
    {
      "cell_type": "code",
      "source": [
        "from sklearn.model_selection import StratifiedKFold\n",
        "\n",
        "scores = cross_validate(dt, train_input, train_target, cv=StratifiedKFold())    # cross_validate 기본값 속성\n",
        "print(np.mean(scores['test_score']))"
      ],
      "metadata": {
        "colab": {
          "base_uri": "https://localhost:8080/"
        },
        "id": "p-Xh61v68vWh",
        "outputId": "dcebb032-a825-4097-f59c-c94356eb9bae"
      },
      "execution_count": 9,
      "outputs": [
        {
          "output_type": "stream",
          "name": "stdout",
          "text": [
            "0.855300214703487\n"
          ]
        }
      ]
    },
    {
      "cell_type": "code",
      "source": [
        "splitter = StratifiedKFold(n_splits=10, shuffle=True, random_state=42)\n",
        "scores = cross_validate(dt, train_input, train_target, cv=splitter)\n",
        "print(np.mean(scores['test_score']))"
      ],
      "metadata": {
        "colab": {
          "base_uri": "https://localhost:8080/"
        },
        "id": "p6ItOf4S9EzS",
        "outputId": "d53d0171-d6a2-4857-ebc1-85bcb10c629e"
      },
      "execution_count": 10,
      "outputs": [
        {
          "output_type": "stream",
          "name": "stdout",
          "text": [
            "0.8574181117533719\n"
          ]
        }
      ]
    },
    {
      "cell_type": "markdown",
      "source": [
        "하이퍼파라미터 튜닝\n",
        "- 하이퍼 파라미터 : 사용자 지정 파라미터, <br>\n",
        "  검증 세트를 포함한 모든 데이터 학습해 최적값 찾기\n",
        "- 하이퍼파라미터 간의 종속성"
      ],
      "metadata": {
        "id": "5prtoND4-ZPr"
      }
    },
    {
      "cell_type": "code",
      "source": [
        "from sklearn.model_selection import GridSearchCV\n",
        "params = {'min_impurity_decrease': [0.0001, 0.0002, 0.0003, 0.0004, 0.0005]}    # 매개변수 최적값 찾기"
      ],
      "metadata": {
        "id": "_RHs8Mxp9INO"
      },
      "execution_count": 11,
      "outputs": []
    },
    {
      "cell_type": "code",
      "source": [
        "gs = GridSearchCV(DecisionTreeClassifier(random_state=42), params, n_jobs=-1)   # n_jobs=-1 : 모든 코어를 사용한다."
      ],
      "metadata": {
        "id": "X0_UZK3y_cgS"
      },
      "execution_count": 12,
      "outputs": []
    },
    {
      "cell_type": "code",
      "source": [
        "gs.fit(train_input, train_target)"
      ],
      "metadata": {
        "colab": {
          "base_uri": "https://localhost:8080/",
          "height": 117
        },
        "id": "eDSG8IeD_qVn",
        "outputId": "141a9379-5074-4527-8e70-f76e55d607cd"
      },
      "execution_count": 13,
      "outputs": [
        {
          "output_type": "execute_result",
          "data": {
            "text/plain": [
              "GridSearchCV(estimator=DecisionTreeClassifier(random_state=42), n_jobs=-1,\n",
              "             param_grid={'min_impurity_decrease': [0.0001, 0.0002, 0.0003,\n",
              "                                                   0.0004, 0.0005]})"
            ],
            "text/html": [
              "<style>#sk-container-id-1 {color: black;background-color: white;}#sk-container-id-1 pre{padding: 0;}#sk-container-id-1 div.sk-toggleable {background-color: white;}#sk-container-id-1 label.sk-toggleable__label {cursor: pointer;display: block;width: 100%;margin-bottom: 0;padding: 0.3em;box-sizing: border-box;text-align: center;}#sk-container-id-1 label.sk-toggleable__label-arrow:before {content: \"▸\";float: left;margin-right: 0.25em;color: #696969;}#sk-container-id-1 label.sk-toggleable__label-arrow:hover:before {color: black;}#sk-container-id-1 div.sk-estimator:hover label.sk-toggleable__label-arrow:before {color: black;}#sk-container-id-1 div.sk-toggleable__content {max-height: 0;max-width: 0;overflow: hidden;text-align: left;background-color: #f0f8ff;}#sk-container-id-1 div.sk-toggleable__content pre {margin: 0.2em;color: black;border-radius: 0.25em;background-color: #f0f8ff;}#sk-container-id-1 input.sk-toggleable__control:checked~div.sk-toggleable__content {max-height: 200px;max-width: 100%;overflow: auto;}#sk-container-id-1 input.sk-toggleable__control:checked~label.sk-toggleable__label-arrow:before {content: \"▾\";}#sk-container-id-1 div.sk-estimator input.sk-toggleable__control:checked~label.sk-toggleable__label {background-color: #d4ebff;}#sk-container-id-1 div.sk-label input.sk-toggleable__control:checked~label.sk-toggleable__label {background-color: #d4ebff;}#sk-container-id-1 input.sk-hidden--visually {border: 0;clip: rect(1px 1px 1px 1px);clip: rect(1px, 1px, 1px, 1px);height: 1px;margin: -1px;overflow: hidden;padding: 0;position: absolute;width: 1px;}#sk-container-id-1 div.sk-estimator {font-family: monospace;background-color: #f0f8ff;border: 1px dotted black;border-radius: 0.25em;box-sizing: border-box;margin-bottom: 0.5em;}#sk-container-id-1 div.sk-estimator:hover {background-color: #d4ebff;}#sk-container-id-1 div.sk-parallel-item::after {content: \"\";width: 100%;border-bottom: 1px solid gray;flex-grow: 1;}#sk-container-id-1 div.sk-label:hover label.sk-toggleable__label {background-color: #d4ebff;}#sk-container-id-1 div.sk-serial::before {content: \"\";position: absolute;border-left: 1px solid gray;box-sizing: border-box;top: 0;bottom: 0;left: 50%;z-index: 0;}#sk-container-id-1 div.sk-serial {display: flex;flex-direction: column;align-items: center;background-color: white;padding-right: 0.2em;padding-left: 0.2em;position: relative;}#sk-container-id-1 div.sk-item {position: relative;z-index: 1;}#sk-container-id-1 div.sk-parallel {display: flex;align-items: stretch;justify-content: center;background-color: white;position: relative;}#sk-container-id-1 div.sk-item::before, #sk-container-id-1 div.sk-parallel-item::before {content: \"\";position: absolute;border-left: 1px solid gray;box-sizing: border-box;top: 0;bottom: 0;left: 50%;z-index: -1;}#sk-container-id-1 div.sk-parallel-item {display: flex;flex-direction: column;z-index: 1;position: relative;background-color: white;}#sk-container-id-1 div.sk-parallel-item:first-child::after {align-self: flex-end;width: 50%;}#sk-container-id-1 div.sk-parallel-item:last-child::after {align-self: flex-start;width: 50%;}#sk-container-id-1 div.sk-parallel-item:only-child::after {width: 0;}#sk-container-id-1 div.sk-dashed-wrapped {border: 1px dashed gray;margin: 0 0.4em 0.5em 0.4em;box-sizing: border-box;padding-bottom: 0.4em;background-color: white;}#sk-container-id-1 div.sk-label label {font-family: monospace;font-weight: bold;display: inline-block;line-height: 1.2em;}#sk-container-id-1 div.sk-label-container {text-align: center;}#sk-container-id-1 div.sk-container {/* jupyter's `normalize.less` sets `[hidden] { display: none; }` but bootstrap.min.css set `[hidden] { display: none !important; }` so we also need the `!important` here to be able to override the default hidden behavior on the sphinx rendered scikit-learn.org. See: https://github.com/scikit-learn/scikit-learn/issues/21755 */display: inline-block !important;position: relative;}#sk-container-id-1 div.sk-text-repr-fallback {display: none;}</style><div id=\"sk-container-id-1\" class=\"sk-top-container\"><div class=\"sk-text-repr-fallback\"><pre>GridSearchCV(estimator=DecisionTreeClassifier(random_state=42), n_jobs=-1,\n",
              "             param_grid={&#x27;min_impurity_decrease&#x27;: [0.0001, 0.0002, 0.0003,\n",
              "                                                   0.0004, 0.0005]})</pre><b>In a Jupyter environment, please rerun this cell to show the HTML representation or trust the notebook. <br />On GitHub, the HTML representation is unable to render, please try loading this page with nbviewer.org.</b></div><div class=\"sk-container\" hidden><div class=\"sk-item sk-dashed-wrapped\"><div class=\"sk-label-container\"><div class=\"sk-label sk-toggleable\"><input class=\"sk-toggleable__control sk-hidden--visually\" id=\"sk-estimator-id-1\" type=\"checkbox\" ><label for=\"sk-estimator-id-1\" class=\"sk-toggleable__label sk-toggleable__label-arrow\">GridSearchCV</label><div class=\"sk-toggleable__content\"><pre>GridSearchCV(estimator=DecisionTreeClassifier(random_state=42), n_jobs=-1,\n",
              "             param_grid={&#x27;min_impurity_decrease&#x27;: [0.0001, 0.0002, 0.0003,\n",
              "                                                   0.0004, 0.0005]})</pre></div></div></div><div class=\"sk-parallel\"><div class=\"sk-parallel-item\"><div class=\"sk-item\"><div class=\"sk-label-container\"><div class=\"sk-label sk-toggleable\"><input class=\"sk-toggleable__control sk-hidden--visually\" id=\"sk-estimator-id-2\" type=\"checkbox\" ><label for=\"sk-estimator-id-2\" class=\"sk-toggleable__label sk-toggleable__label-arrow\">estimator: DecisionTreeClassifier</label><div class=\"sk-toggleable__content\"><pre>DecisionTreeClassifier(random_state=42)</pre></div></div></div><div class=\"sk-serial\"><div class=\"sk-item\"><div class=\"sk-estimator sk-toggleable\"><input class=\"sk-toggleable__control sk-hidden--visually\" id=\"sk-estimator-id-3\" type=\"checkbox\" ><label for=\"sk-estimator-id-3\" class=\"sk-toggleable__label sk-toggleable__label-arrow\">DecisionTreeClassifier</label><div class=\"sk-toggleable__content\"><pre>DecisionTreeClassifier(random_state=42)</pre></div></div></div></div></div></div></div></div></div></div>"
            ]
          },
          "metadata": {},
          "execution_count": 13
        }
      ]
    },
    {
      "cell_type": "code",
      "source": [
        "dt = gs.best_estimator_ # 가장 좋은 하이퍼파라미터로 다시 학습\n",
        "print(dt.score(train_input, train_target))"
      ],
      "metadata": {
        "colab": {
          "base_uri": "https://localhost:8080/"
        },
        "id": "frRQTiiD_tVh",
        "outputId": "16f50735-9cef-43b8-e826-ec5b511f2379"
      },
      "execution_count": 14,
      "outputs": [
        {
          "output_type": "stream",
          "name": "stdout",
          "text": [
            "0.9615162593804117\n"
          ]
        }
      ]
    },
    {
      "cell_type": "code",
      "source": [
        "gs.cv_results_"
      ],
      "metadata": {
        "colab": {
          "base_uri": "https://localhost:8080/"
        },
        "id": "yfPmRoZFBZTS",
        "outputId": "5c843961-d314-4c9e-884a-e81d8a29dded"
      },
      "execution_count": 15,
      "outputs": [
        {
          "output_type": "execute_result",
          "data": {
            "text/plain": [
              "{'mean_fit_time': array([0.01152868, 0.0096148 , 0.01396627, 0.00748835, 0.01119633]),\n",
              " 'std_fit_time': array([0.00281555, 0.0014586 , 0.00352156, 0.00080061, 0.00374091]),\n",
              " 'mean_score_time': array([0.00298395, 0.0014502 , 0.0014441 , 0.00126519, 0.00466547]),\n",
              " 'std_score_time': array([2.86879757e-03, 3.24671835e-05, 4.90254925e-05, 4.40316193e-05,\n",
              "        4.19192904e-03]),\n",
              " 'param_min_impurity_decrease': masked_array(data=[0.0001, 0.0002, 0.0003, 0.0004, 0.0005],\n",
              "              mask=[False, False, False, False, False],\n",
              "        fill_value='?',\n",
              "             dtype=object),\n",
              " 'params': [{'min_impurity_decrease': 0.0001},\n",
              "  {'min_impurity_decrease': 0.0002},\n",
              "  {'min_impurity_decrease': 0.0003},\n",
              "  {'min_impurity_decrease': 0.0004},\n",
              "  {'min_impurity_decrease': 0.0005}],\n",
              " 'split0_test_score': array([0.86923077, 0.87115385, 0.86923077, 0.86923077, 0.86538462]),\n",
              " 'split1_test_score': array([0.86826923, 0.86346154, 0.85961538, 0.86346154, 0.86923077]),\n",
              " 'split2_test_score': array([0.8825794 , 0.87680462, 0.87584216, 0.88161694, 0.8825794 ]),\n",
              " 'split3_test_score': array([0.86717998, 0.85466795, 0.85081809, 0.84889317, 0.84985563]),\n",
              " 'split4_test_score': array([0.85370549, 0.85659288, 0.86910491, 0.87584216, 0.87102984]),\n",
              " 'mean_test_score': array([0.86819297, 0.86453617, 0.86492226, 0.86780891, 0.86761605]),\n",
              " 'std_test_score': array([0.00915386, 0.00843731, 0.0087452 , 0.01125985, 0.01056953]),\n",
              " 'rank_test_score': array([1, 5, 4, 2, 3], dtype=int32)}"
            ]
          },
          "metadata": {},
          "execution_count": 15
        }
      ]
    },
    {
      "cell_type": "code",
      "source": [
        "gs.cv_results_['mean_test_score']"
      ],
      "metadata": {
        "colab": {
          "base_uri": "https://localhost:8080/"
        },
        "id": "qx8sz6M0Brwf",
        "outputId": "09cebbb2-9936-4246-fc6b-2b619bd2e1fd"
      },
      "execution_count": 16,
      "outputs": [
        {
          "output_type": "execute_result",
          "data": {
            "text/plain": [
              "array([0.86819297, 0.86453617, 0.86492226, 0.86780891, 0.86761605])"
            ]
          },
          "metadata": {},
          "execution_count": 16
        }
      ]
    },
    {
      "cell_type": "code",
      "source": [
        "print(gs.best_params_)    # 0.0001이 가장 좋은 값"
      ],
      "metadata": {
        "colab": {
          "base_uri": "https://localhost:8080/"
        },
        "id": "tjbQaB-u_vxM",
        "outputId": "7cdc3263-4d99-45f2-8676-58390c78278f"
      },
      "execution_count": 17,
      "outputs": [
        {
          "output_type": "stream",
          "name": "stdout",
          "text": [
            "{'min_impurity_decrease': 0.0001}\n"
          ]
        }
      ]
    },
    {
      "cell_type": "markdown",
      "source": [
        "#### 그리드 서치를 이용한 결정 트리 훈련\n",
        "- arrange : 파이썬의 range\n",
        "- 1350가지 하이퍼파리미터 조합\n",
        "- 한계: 매개변수 간격 설정 등을 경험에 의존해야 함"
      ],
      "metadata": {
        "id": "DrGebM6NCBER"
      }
    },
    {
      "cell_type": "code",
      "source": [
        "params = {'min_impurity_decrease': np.arange(0.0001, 0.001, 0.0001),\n",
        "          'max_depth': range(5, 20, 1),\n",
        "          'min_samples_split': range(2, 100, 10)\n",
        "          }"
      ],
      "metadata": {
        "id": "ngwM9r6HATHW"
      },
      "execution_count": 18,
      "outputs": []
    },
    {
      "cell_type": "code",
      "source": [
        "gs = GridSearchCV(DecisionTreeClassifier(random_state=42), params, n_jobs=-1)\n",
        "gs.fit(train_input, train_target)"
      ],
      "metadata": {
        "colab": {
          "base_uri": "https://localhost:8080/",
          "height": 117
        },
        "id": "Api4D-x8A9ZJ",
        "outputId": "2ab25511-2141-4978-a88e-555123b792e1"
      },
      "execution_count": 19,
      "outputs": [
        {
          "output_type": "execute_result",
          "data": {
            "text/plain": [
              "GridSearchCV(estimator=DecisionTreeClassifier(random_state=42), n_jobs=-1,\n",
              "             param_grid={'max_depth': range(5, 20),\n",
              "                         'min_impurity_decrease': array([0.0001, 0.0002, 0.0003, 0.0004, 0.0005, 0.0006, 0.0007, 0.0008,\n",
              "       0.0009]),\n",
              "                         'min_samples_split': range(2, 100, 10)})"
            ],
            "text/html": [
              "<style>#sk-container-id-2 {color: black;background-color: white;}#sk-container-id-2 pre{padding: 0;}#sk-container-id-2 div.sk-toggleable {background-color: white;}#sk-container-id-2 label.sk-toggleable__label {cursor: pointer;display: block;width: 100%;margin-bottom: 0;padding: 0.3em;box-sizing: border-box;text-align: center;}#sk-container-id-2 label.sk-toggleable__label-arrow:before {content: \"▸\";float: left;margin-right: 0.25em;color: #696969;}#sk-container-id-2 label.sk-toggleable__label-arrow:hover:before {color: black;}#sk-container-id-2 div.sk-estimator:hover label.sk-toggleable__label-arrow:before {color: black;}#sk-container-id-2 div.sk-toggleable__content {max-height: 0;max-width: 0;overflow: hidden;text-align: left;background-color: #f0f8ff;}#sk-container-id-2 div.sk-toggleable__content pre {margin: 0.2em;color: black;border-radius: 0.25em;background-color: #f0f8ff;}#sk-container-id-2 input.sk-toggleable__control:checked~div.sk-toggleable__content {max-height: 200px;max-width: 100%;overflow: auto;}#sk-container-id-2 input.sk-toggleable__control:checked~label.sk-toggleable__label-arrow:before {content: \"▾\";}#sk-container-id-2 div.sk-estimator input.sk-toggleable__control:checked~label.sk-toggleable__label {background-color: #d4ebff;}#sk-container-id-2 div.sk-label input.sk-toggleable__control:checked~label.sk-toggleable__label {background-color: #d4ebff;}#sk-container-id-2 input.sk-hidden--visually {border: 0;clip: rect(1px 1px 1px 1px);clip: rect(1px, 1px, 1px, 1px);height: 1px;margin: -1px;overflow: hidden;padding: 0;position: absolute;width: 1px;}#sk-container-id-2 div.sk-estimator {font-family: monospace;background-color: #f0f8ff;border: 1px dotted black;border-radius: 0.25em;box-sizing: border-box;margin-bottom: 0.5em;}#sk-container-id-2 div.sk-estimator:hover {background-color: #d4ebff;}#sk-container-id-2 div.sk-parallel-item::after {content: \"\";width: 100%;border-bottom: 1px solid gray;flex-grow: 1;}#sk-container-id-2 div.sk-label:hover label.sk-toggleable__label {background-color: #d4ebff;}#sk-container-id-2 div.sk-serial::before {content: \"\";position: absolute;border-left: 1px solid gray;box-sizing: border-box;top: 0;bottom: 0;left: 50%;z-index: 0;}#sk-container-id-2 div.sk-serial {display: flex;flex-direction: column;align-items: center;background-color: white;padding-right: 0.2em;padding-left: 0.2em;position: relative;}#sk-container-id-2 div.sk-item {position: relative;z-index: 1;}#sk-container-id-2 div.sk-parallel {display: flex;align-items: stretch;justify-content: center;background-color: white;position: relative;}#sk-container-id-2 div.sk-item::before, #sk-container-id-2 div.sk-parallel-item::before {content: \"\";position: absolute;border-left: 1px solid gray;box-sizing: border-box;top: 0;bottom: 0;left: 50%;z-index: -1;}#sk-container-id-2 div.sk-parallel-item {display: flex;flex-direction: column;z-index: 1;position: relative;background-color: white;}#sk-container-id-2 div.sk-parallel-item:first-child::after {align-self: flex-end;width: 50%;}#sk-container-id-2 div.sk-parallel-item:last-child::after {align-self: flex-start;width: 50%;}#sk-container-id-2 div.sk-parallel-item:only-child::after {width: 0;}#sk-container-id-2 div.sk-dashed-wrapped {border: 1px dashed gray;margin: 0 0.4em 0.5em 0.4em;box-sizing: border-box;padding-bottom: 0.4em;background-color: white;}#sk-container-id-2 div.sk-label label {font-family: monospace;font-weight: bold;display: inline-block;line-height: 1.2em;}#sk-container-id-2 div.sk-label-container {text-align: center;}#sk-container-id-2 div.sk-container {/* jupyter's `normalize.less` sets `[hidden] { display: none; }` but bootstrap.min.css set `[hidden] { display: none !important; }` so we also need the `!important` here to be able to override the default hidden behavior on the sphinx rendered scikit-learn.org. See: https://github.com/scikit-learn/scikit-learn/issues/21755 */display: inline-block !important;position: relative;}#sk-container-id-2 div.sk-text-repr-fallback {display: none;}</style><div id=\"sk-container-id-2\" class=\"sk-top-container\"><div class=\"sk-text-repr-fallback\"><pre>GridSearchCV(estimator=DecisionTreeClassifier(random_state=42), n_jobs=-1,\n",
              "             param_grid={&#x27;max_depth&#x27;: range(5, 20),\n",
              "                         &#x27;min_impurity_decrease&#x27;: array([0.0001, 0.0002, 0.0003, 0.0004, 0.0005, 0.0006, 0.0007, 0.0008,\n",
              "       0.0009]),\n",
              "                         &#x27;min_samples_split&#x27;: range(2, 100, 10)})</pre><b>In a Jupyter environment, please rerun this cell to show the HTML representation or trust the notebook. <br />On GitHub, the HTML representation is unable to render, please try loading this page with nbviewer.org.</b></div><div class=\"sk-container\" hidden><div class=\"sk-item sk-dashed-wrapped\"><div class=\"sk-label-container\"><div class=\"sk-label sk-toggleable\"><input class=\"sk-toggleable__control sk-hidden--visually\" id=\"sk-estimator-id-4\" type=\"checkbox\" ><label for=\"sk-estimator-id-4\" class=\"sk-toggleable__label sk-toggleable__label-arrow\">GridSearchCV</label><div class=\"sk-toggleable__content\"><pre>GridSearchCV(estimator=DecisionTreeClassifier(random_state=42), n_jobs=-1,\n",
              "             param_grid={&#x27;max_depth&#x27;: range(5, 20),\n",
              "                         &#x27;min_impurity_decrease&#x27;: array([0.0001, 0.0002, 0.0003, 0.0004, 0.0005, 0.0006, 0.0007, 0.0008,\n",
              "       0.0009]),\n",
              "                         &#x27;min_samples_split&#x27;: range(2, 100, 10)})</pre></div></div></div><div class=\"sk-parallel\"><div class=\"sk-parallel-item\"><div class=\"sk-item\"><div class=\"sk-label-container\"><div class=\"sk-label sk-toggleable\"><input class=\"sk-toggleable__control sk-hidden--visually\" id=\"sk-estimator-id-5\" type=\"checkbox\" ><label for=\"sk-estimator-id-5\" class=\"sk-toggleable__label sk-toggleable__label-arrow\">estimator: DecisionTreeClassifier</label><div class=\"sk-toggleable__content\"><pre>DecisionTreeClassifier(random_state=42)</pre></div></div></div><div class=\"sk-serial\"><div class=\"sk-item\"><div class=\"sk-estimator sk-toggleable\"><input class=\"sk-toggleable__control sk-hidden--visually\" id=\"sk-estimator-id-6\" type=\"checkbox\" ><label for=\"sk-estimator-id-6\" class=\"sk-toggleable__label sk-toggleable__label-arrow\">DecisionTreeClassifier</label><div class=\"sk-toggleable__content\"><pre>DecisionTreeClassifier(random_state=42)</pre></div></div></div></div></div></div></div></div></div></div>"
            ]
          },
          "metadata": {},
          "execution_count": 19
        }
      ]
    },
    {
      "cell_type": "code",
      "source": [
        "print(gs.best_params_)"
      ],
      "metadata": {
        "colab": {
          "base_uri": "https://localhost:8080/"
        },
        "id": "nLaqkjIeCWB3",
        "outputId": "e00ceb72-ce3b-4a5a-feee-3395e01af57d"
      },
      "execution_count": 20,
      "outputs": [
        {
          "output_type": "stream",
          "name": "stdout",
          "text": [
            "{'max_depth': 14, 'min_impurity_decrease': 0.0004, 'min_samples_split': 12}\n"
          ]
        }
      ]
    },
    {
      "cell_type": "code",
      "source": [
        "gs.cv_results_['mean_test_score'].shape   # 1350가지 하이퍼파리미터 조합 = 교차검증 횟수"
      ],
      "metadata": {
        "colab": {
          "base_uri": "https://localhost:8080/"
        },
        "id": "b5VT5aAsDFpZ",
        "outputId": "38a16899-4483-4a5b-ccbc-bd52034894a4"
      },
      "execution_count": 21,
      "outputs": [
        {
          "output_type": "execute_result",
          "data": {
            "text/plain": [
              "(1350,)"
            ]
          },
          "metadata": {},
          "execution_count": 21
        }
      ]
    },
    {
      "cell_type": "code",
      "source": [
        "print(np.max(gs.cv_results_['mean_test_score']))"
      ],
      "metadata": {
        "colab": {
          "base_uri": "https://localhost:8080/"
        },
        "id": "_4uYKbauCWwl",
        "outputId": "6347659e-2944-466b-ba2d-fa764d609937"
      },
      "execution_count": 22,
      "outputs": [
        {
          "output_type": "stream",
          "name": "stdout",
          "text": [
            "0.8683865773302731\n"
          ]
        }
      ]
    },
    {
      "cell_type": "markdown",
      "source": [
        "#### 랜덤 서치\n",
        "- 너무 많은 매개변수 조합 -> 매개변수 값을 그대로 전달하는 것의 한계\n",
        "- 매개변수를 샘플링할 수 있는 확률 분포 전달\n",
        "- 확률분포 사용 = 싸이파이"
      ],
      "metadata": {
        "id": "3X5tkdlXDphE"
      }
    },
    {
      "cell_type": "code",
      "source": [
        "from scipy.stats import uniform, randint"
      ],
      "metadata": {
        "id": "q6u7D49WC3IA"
      },
      "execution_count": 23,
      "outputs": []
    },
    {
      "cell_type": "code",
      "source": [
        "from sklearn.model_selection import RandomizedSearchCV"
      ],
      "metadata": {
        "id": "l8JqalRaEhFA"
      },
      "execution_count": 24,
      "outputs": []
    },
    {
      "cell_type": "code",
      "source": [
        "params = {'min_impurity_decrease': uniform(0.0001, 0.001),\n",
        "          'max_depth': randint(20, 50),\n",
        "          'min_samples_split': randint(2, 25),\n",
        "          'min_samples_leaf': randint(1, 25),\n",
        "          }"
      ],
      "metadata": {
        "id": "RzfZutQsElrL"
      },
      "execution_count": 25,
      "outputs": []
    },
    {
      "cell_type": "code",
      "source": [
        "rs = RandomizedSearchCV(DecisionTreeClassifier(random_state=42), params,\n",
        "                        n_iter=100, n_jobs=-1, random_state=42)\n",
        "rs.fit(train_input, train_target)"
      ],
      "metadata": {
        "colab": {
          "base_uri": "https://localhost:8080/",
          "height": 117
        },
        "id": "TdLJshJPEsx2",
        "outputId": "9a42450c-6795-4528-b515-e918be830917"
      },
      "execution_count": 26,
      "outputs": [
        {
          "output_type": "execute_result",
          "data": {
            "text/plain": [
              "RandomizedSearchCV(estimator=DecisionTreeClassifier(random_state=42),\n",
              "                   n_iter=100, n_jobs=-1,\n",
              "                   param_distributions={'max_depth': <scipy.stats._distn_infrastructure.rv_discrete_frozen object at 0x7ee97c3b8670>,\n",
              "                                        'min_impurity_decrease': <scipy.stats._distn_infrastructure.rv_continuous_frozen object at 0x7ee97c411f30>,\n",
              "                                        'min_samples_leaf': <scipy.stats._distn_infrastructure.rv_discrete_frozen object at 0x7ee97c413790>,\n",
              "                                        'min_samples_split': <scipy.stats._distn_infrastructure.rv_discrete_frozen object at 0x7ee97c413d00>},\n",
              "                   random_state=42)"
            ],
            "text/html": [
              "<style>#sk-container-id-3 {color: black;background-color: white;}#sk-container-id-3 pre{padding: 0;}#sk-container-id-3 div.sk-toggleable {background-color: white;}#sk-container-id-3 label.sk-toggleable__label {cursor: pointer;display: block;width: 100%;margin-bottom: 0;padding: 0.3em;box-sizing: border-box;text-align: center;}#sk-container-id-3 label.sk-toggleable__label-arrow:before {content: \"▸\";float: left;margin-right: 0.25em;color: #696969;}#sk-container-id-3 label.sk-toggleable__label-arrow:hover:before {color: black;}#sk-container-id-3 div.sk-estimator:hover label.sk-toggleable__label-arrow:before {color: black;}#sk-container-id-3 div.sk-toggleable__content {max-height: 0;max-width: 0;overflow: hidden;text-align: left;background-color: #f0f8ff;}#sk-container-id-3 div.sk-toggleable__content pre {margin: 0.2em;color: black;border-radius: 0.25em;background-color: #f0f8ff;}#sk-container-id-3 input.sk-toggleable__control:checked~div.sk-toggleable__content {max-height: 200px;max-width: 100%;overflow: auto;}#sk-container-id-3 input.sk-toggleable__control:checked~label.sk-toggleable__label-arrow:before {content: \"▾\";}#sk-container-id-3 div.sk-estimator input.sk-toggleable__control:checked~label.sk-toggleable__label {background-color: #d4ebff;}#sk-container-id-3 div.sk-label input.sk-toggleable__control:checked~label.sk-toggleable__label {background-color: #d4ebff;}#sk-container-id-3 input.sk-hidden--visually {border: 0;clip: rect(1px 1px 1px 1px);clip: rect(1px, 1px, 1px, 1px);height: 1px;margin: -1px;overflow: hidden;padding: 0;position: absolute;width: 1px;}#sk-container-id-3 div.sk-estimator {font-family: monospace;background-color: #f0f8ff;border: 1px dotted black;border-radius: 0.25em;box-sizing: border-box;margin-bottom: 0.5em;}#sk-container-id-3 div.sk-estimator:hover {background-color: #d4ebff;}#sk-container-id-3 div.sk-parallel-item::after {content: \"\";width: 100%;border-bottom: 1px solid gray;flex-grow: 1;}#sk-container-id-3 div.sk-label:hover label.sk-toggleable__label {background-color: #d4ebff;}#sk-container-id-3 div.sk-serial::before {content: \"\";position: absolute;border-left: 1px solid gray;box-sizing: border-box;top: 0;bottom: 0;left: 50%;z-index: 0;}#sk-container-id-3 div.sk-serial {display: flex;flex-direction: column;align-items: center;background-color: white;padding-right: 0.2em;padding-left: 0.2em;position: relative;}#sk-container-id-3 div.sk-item {position: relative;z-index: 1;}#sk-container-id-3 div.sk-parallel {display: flex;align-items: stretch;justify-content: center;background-color: white;position: relative;}#sk-container-id-3 div.sk-item::before, #sk-container-id-3 div.sk-parallel-item::before {content: \"\";position: absolute;border-left: 1px solid gray;box-sizing: border-box;top: 0;bottom: 0;left: 50%;z-index: -1;}#sk-container-id-3 div.sk-parallel-item {display: flex;flex-direction: column;z-index: 1;position: relative;background-color: white;}#sk-container-id-3 div.sk-parallel-item:first-child::after {align-self: flex-end;width: 50%;}#sk-container-id-3 div.sk-parallel-item:last-child::after {align-self: flex-start;width: 50%;}#sk-container-id-3 div.sk-parallel-item:only-child::after {width: 0;}#sk-container-id-3 div.sk-dashed-wrapped {border: 1px dashed gray;margin: 0 0.4em 0.5em 0.4em;box-sizing: border-box;padding-bottom: 0.4em;background-color: white;}#sk-container-id-3 div.sk-label label {font-family: monospace;font-weight: bold;display: inline-block;line-height: 1.2em;}#sk-container-id-3 div.sk-label-container {text-align: center;}#sk-container-id-3 div.sk-container {/* jupyter's `normalize.less` sets `[hidden] { display: none; }` but bootstrap.min.css set `[hidden] { display: none !important; }` so we also need the `!important` here to be able to override the default hidden behavior on the sphinx rendered scikit-learn.org. See: https://github.com/scikit-learn/scikit-learn/issues/21755 */display: inline-block !important;position: relative;}#sk-container-id-3 div.sk-text-repr-fallback {display: none;}</style><div id=\"sk-container-id-3\" class=\"sk-top-container\"><div class=\"sk-text-repr-fallback\"><pre>RandomizedSearchCV(estimator=DecisionTreeClassifier(random_state=42),\n",
              "                   n_iter=100, n_jobs=-1,\n",
              "                   param_distributions={&#x27;max_depth&#x27;: &lt;scipy.stats._distn_infrastructure.rv_discrete_frozen object at 0x7ee97c3b8670&gt;,\n",
              "                                        &#x27;min_impurity_decrease&#x27;: &lt;scipy.stats._distn_infrastructure.rv_continuous_frozen object at 0x7ee97c411f30&gt;,\n",
              "                                        &#x27;min_samples_leaf&#x27;: &lt;scipy.stats._distn_infrastructure.rv_discrete_frozen object at 0x7ee97c413790&gt;,\n",
              "                                        &#x27;min_samples_split&#x27;: &lt;scipy.stats._distn_infrastructure.rv_discrete_frozen object at 0x7ee97c413d00&gt;},\n",
              "                   random_state=42)</pre><b>In a Jupyter environment, please rerun this cell to show the HTML representation or trust the notebook. <br />On GitHub, the HTML representation is unable to render, please try loading this page with nbviewer.org.</b></div><div class=\"sk-container\" hidden><div class=\"sk-item sk-dashed-wrapped\"><div class=\"sk-label-container\"><div class=\"sk-label sk-toggleable\"><input class=\"sk-toggleable__control sk-hidden--visually\" id=\"sk-estimator-id-7\" type=\"checkbox\" ><label for=\"sk-estimator-id-7\" class=\"sk-toggleable__label sk-toggleable__label-arrow\">RandomizedSearchCV</label><div class=\"sk-toggleable__content\"><pre>RandomizedSearchCV(estimator=DecisionTreeClassifier(random_state=42),\n",
              "                   n_iter=100, n_jobs=-1,\n",
              "                   param_distributions={&#x27;max_depth&#x27;: &lt;scipy.stats._distn_infrastructure.rv_discrete_frozen object at 0x7ee97c3b8670&gt;,\n",
              "                                        &#x27;min_impurity_decrease&#x27;: &lt;scipy.stats._distn_infrastructure.rv_continuous_frozen object at 0x7ee97c411f30&gt;,\n",
              "                                        &#x27;min_samples_leaf&#x27;: &lt;scipy.stats._distn_infrastructure.rv_discrete_frozen object at 0x7ee97c413790&gt;,\n",
              "                                        &#x27;min_samples_split&#x27;: &lt;scipy.stats._distn_infrastructure.rv_discrete_frozen object at 0x7ee97c413d00&gt;},\n",
              "                   random_state=42)</pre></div></div></div><div class=\"sk-parallel\"><div class=\"sk-parallel-item\"><div class=\"sk-item\"><div class=\"sk-label-container\"><div class=\"sk-label sk-toggleable\"><input class=\"sk-toggleable__control sk-hidden--visually\" id=\"sk-estimator-id-8\" type=\"checkbox\" ><label for=\"sk-estimator-id-8\" class=\"sk-toggleable__label sk-toggleable__label-arrow\">estimator: DecisionTreeClassifier</label><div class=\"sk-toggleable__content\"><pre>DecisionTreeClassifier(random_state=42)</pre></div></div></div><div class=\"sk-serial\"><div class=\"sk-item\"><div class=\"sk-estimator sk-toggleable\"><input class=\"sk-toggleable__control sk-hidden--visually\" id=\"sk-estimator-id-9\" type=\"checkbox\" ><label for=\"sk-estimator-id-9\" class=\"sk-toggleable__label sk-toggleable__label-arrow\">DecisionTreeClassifier</label><div class=\"sk-toggleable__content\"><pre>DecisionTreeClassifier(random_state=42)</pre></div></div></div></div></div></div></div></div></div></div>"
            ]
          },
          "metadata": {},
          "execution_count": 26
        }
      ]
    },
    {
      "cell_type": "code",
      "source": [
        "print(rs.cv_results_['params'])"
      ],
      "metadata": {
        "colab": {
          "base_uri": "https://localhost:8080/"
        },
        "id": "GI_t9DxfFaJo",
        "outputId": "f9cd5361-4238-4d1f-f5dd-c9b3cd750310"
      },
      "execution_count": 27,
      "outputs": [
        {
          "output_type": "stream",
          "name": "stdout",
          "text": [
            "[{'max_depth': 26, 'min_impurity_decrease': 0.0008965429868602329, 'min_samples_leaf': 15, 'min_samples_split': 12}, {'max_depth': 27, 'min_impurity_decrease': 0.0006986584841970366, 'min_samples_leaf': 7, 'min_samples_split': 20}, {'max_depth': 42, 'min_impurity_decrease': 0.00015808361216819946, 'min_samples_leaf': 24, 'min_samples_split': 22}, {'max_depth': 23, 'min_impurity_decrease': 0.0002428668179219408, 'min_samples_leaf': 3, 'min_samples_split': 23}, {'max_depth': 40, 'min_impurity_decrease': 0.0010699098521619944, 'min_samples_leaf': 12, 'min_samples_split': 7}, {'max_depth': 21, 'min_impurity_decrease': 0.0002818249672071006, 'min_samples_leaf': 21, 'min_samples_split': 2}, {'max_depth': 31, 'min_impurity_decrease': 0.000711653160488281, 'min_samples_leaf': 12, 'min_samples_split': 18}, {'max_depth': 46, 'min_impurity_decrease': 0.0007118528947223795, 'min_samples_leaf': 10, 'min_samples_split': 17}, {'max_depth': 34, 'min_impurity_decrease': 0.000556069984217036, 'min_samples_leaf': 15, 'min_samples_split': 20}, {'max_depth': 31, 'min_impurity_decrease': 0.0006142344384136117, 'min_samples_leaf': 3, 'min_samples_split': 6}, {'max_depth': 38, 'min_impurity_decrease': 0.0007803075385877798, 'min_samples_leaf': 9, 'min_samples_split': 8}, {'max_depth': 37, 'min_impurity_decrease': 0.0010488855372533332, 'min_samples_leaf': 14, 'min_samples_split': 19}, {'max_depth': 45, 'min_impurity_decrease': 0.0004046137691733707, 'min_samples_leaf': 21, 'min_samples_split': 3}, {'max_depth': 39, 'min_impurity_decrease': 0.00034102546602601173, 'min_samples_leaf': 7, 'min_samples_split': 13}, {'max_depth': 48, 'min_impurity_decrease': 0.0009331949117361644, 'min_samples_leaf': 3, 'min_samples_split': 15}, {'max_depth': 36, 'min_impurity_decrease': 0.0003587799816000169, 'min_samples_leaf': 8, 'min_samples_split': 5}, {'max_depth': 21, 'min_impurity_decrease': 0.0005251558744912447, 'min_samples_leaf': 22, 'min_samples_split': 11}, {'max_depth': 23, 'min_impurity_decrease': 0.00028485445552552704, 'min_samples_leaf': 18, 'min_samples_split': 13}, {'max_depth': 21, 'min_impurity_decrease': 0.0004951502360018144, 'min_samples_leaf': 4, 'min_samples_split': 15}, {'max_depth': 35, 'min_impurity_decrease': 0.0004265407688058354, 'min_samples_leaf': 14, 'min_samples_split': 24}, {'max_depth': 47, 'min_impurity_decrease': 0.00014522728891053807, 'min_samples_leaf': 8, 'min_samples_split': 22}, {'max_depth': 35, 'min_impurity_decrease': 0.0008473201101373809, 'min_samples_leaf': 15, 'min_samples_split': 22}, {'max_depth': 43, 'min_impurity_decrease': 0.0004567533266935893, 'min_samples_leaf': 13, 'min_samples_split': 10}, {'max_depth': 48, 'min_impurity_decrease': 0.0009021969807540397, 'min_samples_leaf': 1, 'min_samples_split': 8}, {'max_depth': 28, 'min_impurity_decrease': 0.0008722447692966575, 'min_samples_leaf': 12, 'min_samples_split': 9}, {'max_depth': 43, 'min_impurity_decrease': 0.00011407982271508446, 'min_samples_leaf': 19, 'min_samples_split': 18}, {'max_depth': 27, 'min_impurity_decrease': 0.0008290071680409874, 'min_samples_leaf': 1, 'min_samples_split': 6}, {'max_depth': 29, 'min_impurity_decrease': 0.0004584657285442726, 'min_samples_leaf': 9, 'min_samples_split': 8}, {'max_depth': 28, 'min_impurity_decrease': 0.0007232981268275579, 'min_samples_leaf': 2, 'min_samples_split': 2}, {'max_depth': 35, 'min_impurity_decrease': 0.00047081825219826636, 'min_samples_leaf': 24, 'min_samples_split': 6}, {'max_depth': 22, 'min_impurity_decrease': 0.0006912977877077272, 'min_samples_leaf': 22, 'min_samples_split': 4}, {'max_depth': 20, 'min_impurity_decrease': 0.00048292687475378986, 'min_samples_leaf': 15, 'min_samples_split': 15}, {'max_depth': 22, 'min_impurity_decrease': 0.0008607850486168975, 'min_samples_leaf': 23, 'min_samples_split': 15}, {'max_depth': 26, 'min_impurity_decrease': 0.00014043358953843134, 'min_samples_leaf': 15, 'min_samples_split': 16}, {'max_depth': 45, 'min_impurity_decrease': 0.00012541912674409519, 'min_samples_leaf': 13, 'min_samples_split': 20}, {'max_depth': 26, 'min_impurity_decrease': 0.0005753702231821118, 'min_samples_leaf': 4, 'min_samples_split': 6}, {'max_depth': 42, 'min_impurity_decrease': 0.0007044173792778173, 'min_samples_leaf': 15, 'min_samples_split': 12}, {'max_depth': 48, 'min_impurity_decrease': 0.00032879816549162246, 'min_samples_leaf': 7, 'min_samples_split': 20}, {'max_depth': 41, 'min_impurity_decrease': 0.0009804678390152577, 'min_samples_leaf': 10, 'min_samples_split': 14}, {'max_depth': 49, 'min_impurity_decrease': 0.0007334037565104235, 'min_samples_leaf': 6, 'min_samples_split': 13}, {'max_depth': 31, 'min_impurity_decrease': 0.0005165099478703662, 'min_samples_leaf': 11, 'min_samples_split': 24}, {'max_depth': 47, 'min_impurity_decrease': 0.0004562978380769749, 'min_samples_leaf': 1, 'min_samples_split': 2}, {'max_depth': 44, 'min_impurity_decrease': 0.0007476901205413623, 'min_samples_leaf': 20, 'min_samples_split': 14}, {'max_depth': 28, 'min_impurity_decrease': 0.000404781258158029, 'min_samples_leaf': 6, 'min_samples_split': 9}, {'max_depth': 46, 'min_impurity_decrease': 0.000517411003148779, 'min_samples_leaf': 5, 'min_samples_split': 2}, {'max_depth': 38, 'min_impurity_decrease': 0.0003694123337985215, 'min_samples_leaf': 24, 'min_samples_split': 16}, {'max_depth': 46, 'min_impurity_decrease': 0.00042320293202075524, 'min_samples_leaf': 24, 'min_samples_split': 10}, {'max_depth': 39, 'min_impurity_decrease': 0.000463629602379294, 'min_samples_leaf': 17, 'min_samples_split': 21}, {'max_depth': 31, 'min_impurity_decrease': 0.0003517822958253642, 'min_samples_leaf': 2, 'min_samples_split': 4}, {'max_depth': 36, 'min_impurity_decrease': 0.0002480869299533999, 'min_samples_leaf': 24, 'min_samples_split': 18}, {'max_depth': 46, 'min_impurity_decrease': 0.0007095643339798969, 'min_samples_leaf': 2, 'min_samples_split': 23}, {'max_depth': 42, 'min_impurity_decrease': 0.00037864646423661145, 'min_samples_leaf': 1, 'min_samples_split': 2}, {'max_depth': 38, 'min_impurity_decrease': 0.0007807054515547669, 'min_samples_leaf': 21, 'min_samples_split': 13}, {'max_depth': 45, 'min_impurity_decrease': 0.0010856504541106008, 'min_samples_leaf': 23, 'min_samples_split': 5}, {'max_depth': 42, 'min_impurity_decrease': 0.0008616196153287177, 'min_samples_leaf': 17, 'min_samples_split': 7}, {'max_depth': 43, 'min_impurity_decrease': 0.0005703006344460385, 'min_samples_leaf': 2, 'min_samples_split': 7}, {'max_depth': 41, 'min_impurity_decrease': 0.0006357746840747585, 'min_samples_leaf': 16, 'min_samples_split': 17}, {'max_depth': 20, 'min_impurity_decrease': 0.00025071754396542947, 'min_samples_leaf': 6, 'min_samples_split': 17}, {'max_depth': 48, 'min_impurity_decrease': 0.0009583588048137199, 'min_samples_leaf': 4, 'min_samples_split': 20}, {'max_depth': 45, 'min_impurity_decrease': 0.0006120930582992811, 'min_samples_leaf': 19, 'min_samples_split': 21}, {'max_depth': 26, 'min_impurity_decrease': 0.0002743664290049914, 'min_samples_leaf': 1, 'min_samples_split': 9}, {'max_depth': 26, 'min_impurity_decrease': 0.0010367299887367345, 'min_samples_leaf': 1, 'min_samples_split': 12}, {'max_depth': 47, 'min_impurity_decrease': 0.0008352161192407722, 'min_samples_leaf': 18, 'min_samples_split': 24}, {'max_depth': 49, 'min_impurity_decrease': 0.0007957843993450823, 'min_samples_leaf': 7, 'min_samples_split': 17}, {'max_depth': 45, 'min_impurity_decrease': 0.0010821683433294357, 'min_samples_leaf': 20, 'min_samples_split': 18}, {'max_depth': 21, 'min_impurity_decrease': 0.0010962536997579243, 'min_samples_leaf': 12, 'min_samples_split': 6}, {'max_depth': 24, 'min_impurity_decrease': 0.0009826363431893396, 'min_samples_leaf': 23, 'min_samples_split': 10}, {'max_depth': 28, 'min_impurity_decrease': 0.0004492095746126609, 'min_samples_leaf': 16, 'min_samples_split': 17}, {'max_depth': 22, 'min_impurity_decrease': 0.0009563242918780925, 'min_samples_leaf': 22, 'min_samples_split': 2}, {'max_depth': 43, 'min_impurity_decrease': 0.0009509284487675128, 'min_samples_leaf': 17, 'min_samples_split': 9}, {'max_depth': 23, 'min_impurity_decrease': 0.0009985541885270792, 'min_samples_leaf': 20, 'min_samples_split': 4}, {'max_depth': 35, 'min_impurity_decrease': 0.00020147154286603213, 'min_samples_leaf': 3, 'min_samples_split': 19}, {'max_depth': 33, 'min_impurity_decrease': 0.0006487337893665862, 'min_samples_leaf': 22, 'min_samples_split': 4}, {'max_depth': 35, 'min_impurity_decrease': 0.0010944574626108208, 'min_samples_leaf': 4, 'min_samples_split': 2}, {'max_depth': 23, 'min_impurity_decrease': 0.0003372490874968001, 'min_samples_leaf': 21, 'min_samples_split': 17}, {'max_depth': 39, 'min_impurity_decrease': 0.00046646878458285994, 'min_samples_leaf': 8, 'min_samples_split': 8}, {'max_depth': 22, 'min_impurity_decrease': 0.0007576128923003434, 'min_samples_leaf': 1, 'min_samples_split': 17}, {'max_depth': 31, 'min_impurity_decrease': 0.00060881407683876, 'min_samples_leaf': 22, 'min_samples_split': 24}, {'max_depth': 41, 'min_impurity_decrease': 0.0003439896433790836, 'min_samples_leaf': 6, 'min_samples_split': 7}, {'max_depth': 32, 'min_impurity_decrease': 0.0005867421529594551, 'min_samples_leaf': 8, 'min_samples_split': 3}, {'max_depth': 40, 'min_impurity_decrease': 0.0006026370931051921, 'min_samples_leaf': 15, 'min_samples_split': 2}, {'max_depth': 24, 'min_impurity_decrease': 0.0003301852682415553, 'min_samples_leaf': 16, 'min_samples_split': 20}, {'max_depth': 23, 'min_impurity_decrease': 0.00012431596643145386, 'min_samples_leaf': 17, 'min_samples_split': 18}, {'max_depth': 31, 'min_impurity_decrease': 0.0010404585843529143, 'min_samples_leaf': 14, 'min_samples_split': 22}, {'max_depth': 25, 'min_impurity_decrease': 0.0004701587002554444, 'min_samples_leaf': 9, 'min_samples_split': 6}, {'max_depth': 43, 'min_impurity_decrease': 0.0004307503046705137, 'min_samples_leaf': 14, 'min_samples_split': 22}, {'max_depth': 22, 'min_impurity_decrease': 0.0010803315837160457, 'min_samples_leaf': 20, 'min_samples_split': 22}, {'max_depth': 42, 'min_impurity_decrease': 0.0003684748568901568, 'min_samples_leaf': 3, 'min_samples_split': 19}, {'max_depth': 44, 'min_impurity_decrease': 0.0004946914668094723, 'min_samples_leaf': 22, 'min_samples_split': 4}, {'max_depth': 27, 'min_impurity_decrease': 0.0001704161308495439, 'min_samples_leaf': 18, 'min_samples_split': 16}, {'max_depth': 41, 'min_impurity_decrease': 0.0004586467812961639, 'min_samples_leaf': 10, 'min_samples_split': 3}, {'max_depth': 45, 'min_impurity_decrease': 0.0008407686177542045, 'min_samples_leaf': 1, 'min_samples_split': 10}, {'max_depth': 30, 'min_impurity_decrease': 0.0008089109969101186, 'min_samples_leaf': 7, 'min_samples_split': 11}, {'max_depth': 42, 'min_impurity_decrease': 0.0005197808564462765, 'min_samples_leaf': 18, 'min_samples_split': 14}, {'max_depth': 47, 'min_impurity_decrease': 0.0006113423988609378, 'min_samples_leaf': 4, 'min_samples_split': 14}, {'max_depth': 39, 'min_impurity_decrease': 0.0007499639307777652, 'min_samples_leaf': 14, 'min_samples_split': 17}, {'max_depth': 33, 'min_impurity_decrease': 0.0009900053418175664, 'min_samples_leaf': 23, 'min_samples_split': 16}, {'max_depth': 47, 'min_impurity_decrease': 0.0006788648955075588, 'min_samples_leaf': 23, 'min_samples_split': 23}, {'max_depth': 38, 'min_impurity_decrease': 0.0005655980181324602, 'min_samples_leaf': 22, 'min_samples_split': 23}, {'max_depth': 36, 'min_impurity_decrease': 0.00013734818874921442, 'min_samples_leaf': 6, 'min_samples_split': 16}]\n"
          ]
        }
      ]
    },
    {
      "cell_type": "code",
      "source": [
        "dt = rs.best_estimator_\n",
        "print(dt.score(test_input, test_target))"
      ],
      "metadata": {
        "colab": {
          "base_uri": "https://localhost:8080/"
        },
        "id": "mc-mmOqoFul-",
        "outputId": "f3465caf-7389-4844-875b-1571e30b34d3"
      },
      "execution_count": 28,
      "outputs": [
        {
          "output_type": "stream",
          "name": "stdout",
          "text": [
            "0.86\n"
          ]
        }
      ]
    },
    {
      "cell_type": "code",
      "source": [],
      "metadata": {
        "id": "YzTM9OGKGkTB"
      },
      "execution_count": 28,
      "outputs": []
    }
  ]
}