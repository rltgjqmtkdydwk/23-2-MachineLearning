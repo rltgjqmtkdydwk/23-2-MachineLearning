{
  "nbformat": 4,
  "nbformat_minor": 0,
  "metadata": {
    "colab": {
      "provenance": []
    },
    "kernelspec": {
      "name": "python3",
      "display_name": "Python 3"
    },
    "language_info": {
      "name": "python"
    }
  },
  "cells": [
    {
      "cell_type": "code",
      "execution_count": null,
      "metadata": {
        "id": "7QaDiBZCBcQy"
      },
      "outputs": [],
      "source": [
        "import numpy as np\n",
        "\n",
        "perch_length = np.array(\n",
        "    [8.4, 13.7, 15.0, 16.2, 17.4, 18.0, 18.7, 19.0, 19.6, 20.0,\n",
        "     21.0, 21.0, 21.0, 21.3, 22.0, 22.0, 22.0, 22.0, 22.0, 22.5,\n",
        "     22.5, 22.7, 23.0, 23.5, 24.0, 24.0, 24.6, 25.0, 25.6, 26.5,\n",
        "     27.3, 27.5, 27.5, 27.5, 28.0, 28.7, 30.0, 32.8, 34.5, 35.0,\n",
        "     36.5, 36.0, 37.0, 37.0, 39.0, 39.0, 39.0, 40.0, 40.0, 40.0,\n",
        "     40.0, 42.0, 43.0, 43.0, 43.5, 44.0]\n",
        "     )\n",
        "perch_weight = np.array(\n",
        "    [5.9, 32.0, 40.0, 51.5, 70.0, 100.0, 78.0, 80.0, 85.0, 85.0,\n",
        "     110.0, 115.0, 125.0, 130.0, 120.0, 120.0, 130.0, 135.0, 110.0,\n",
        "     130.0, 150.0, 145.0, 150.0, 170.0, 225.0, 145.0, 188.0, 180.0,\n",
        "     197.0, 218.0, 300.0, 260.0, 265.0, 250.0, 250.0, 300.0, 320.0,\n",
        "     514.0, 556.0, 840.0, 685.0, 700.0, 700.0, 690.0, 900.0, 650.0,\n",
        "     820.0, 850.0, 900.0, 1015.0, 820.0, 1100.0, 1000.0, 1100.0,\n",
        "     1000.0, 1000.0]\n",
        "     )\n"
      ]
    },
    {
      "cell_type": "code",
      "source": [
        "from sklearn.model_selection import train_test_split\n",
        "\n",
        "train_input, test_input, train_target, test_target = train_test_split(\n",
        "    perch_length, perch_weight, random_state=42)\n",
        "train_input=train_input.reshape(-1,1)\n",
        "test_input=test_input.reshape(-1,1)\n",
        "\n",
        "\n",
        "print(train_input.shape, test_input.shape)"
      ],
      "metadata": {
        "id": "Fq2dm7wZB5ac",
        "colab": {
          "base_uri": "https://localhost:8080/"
        },
        "outputId": "fa157025-3b3b-4920-f7da-22e8a9d7f696"
      },
      "execution_count": null,
      "outputs": [
        {
          "output_type": "stream",
          "name": "stdout",
          "text": [
            "(42, 1) (14, 1)\n"
          ]
        }
      ]
    },
    {
      "cell_type": "markdown",
      "source": [
        "#### k-최근접 이웃 알고리즘의 문제점<hr>\n",
        "k-최근접 이웃 회귀는 가장 가까운 샘플을 찾아 타깃을 평균합니다.\n",
        "따라서 새로운 샘플이 훈련세트 범위를 벗어나면 엉뚱한 값을 예측할 수 있습니다.\n",
        "이런 식이면 농어가 아무리 커도 무게가 더 늘어나지 않겠군."
      ],
      "metadata": {
        "id": "YMbNWaFSdwfV"
      }
    },
    {
      "cell_type": "code",
      "source": [
        "from sklearn.neighbors import KNeighborsRegressor\n",
        "\n",
        "knr = KNeighborsRegressor(n_neighbors=3)\n",
        "knr.fit(train_input, train_target)\n",
        "knr.score(train_input, train_target), knr.score(test_input, test_target)"
      ],
      "metadata": {
        "id": "vzwpA9y_CTTk",
        "colab": {
          "base_uri": "https://localhost:8080/"
        },
        "outputId": "4f341950-2f2a-417c-d1e9-948f98053580"
      },
      "execution_count": null,
      "outputs": [
        {
          "output_type": "execute_result",
          "data": {
            "text/plain": [
              "(0.9804899950518966, 0.9746459963987609)"
            ]
          },
          "metadata": {},
          "execution_count": 103
        }
      ]
    },
    {
      "cell_type": "code",
      "source": [
        "print(knr.predict([[50]]))"
      ],
      "metadata": {
        "id": "s0FQRIygDGV5",
        "colab": {
          "base_uri": "https://localhost:8080/"
        },
        "outputId": "d9be8602-d89f-472d-e057-4b2741b59c42"
      },
      "execution_count": null,
      "outputs": [
        {
          "output_type": "stream",
          "name": "stdout",
          "text": [
            "[1033.33333333]\n"
          ]
        }
      ]
    },
    {
      "cell_type": "code",
      "source": [
        "import matplotlib.pyplot as plt"
      ],
      "metadata": {
        "id": "jeD68zEJDOSd"
      },
      "execution_count": null,
      "outputs": []
    },
    {
      "cell_type": "code",
      "source": [
        "# 50cm 농어의 가장 가까운 이웃 3개\n",
        "distances, indexes = knr.kneighbors([[50]])\n",
        "print(distances, indexes)"
      ],
      "metadata": {
        "id": "V1MeVDYQDQp_",
        "colab": {
          "base_uri": "https://localhost:8080/"
        },
        "outputId": "7d939b43-ca7f-4c29-a5bc-7398b4e84474"
      },
      "execution_count": null,
      "outputs": [
        {
          "output_type": "stream",
          "name": "stdout",
          "text": [
            "[[6. 7. 7.]] [[34  8 14]]\n"
          ]
        }
      ]
    },
    {
      "cell_type": "code",
      "source": [
        "plt.scatter(train_input, train_target)\n",
        "plt.scatter(train_input[indexes], train_target[indexes])\n",
        "# 이런 식이면 농어가 아무리 커도 무게가 동일하겠군.\n",
        "plt.scatter(50, 1033, marker='^')\n",
        "plt.scatter(100, 1033, marker='^')\n",
        "plt.show()"
      ],
      "metadata": {
        "id": "mX0HEfMnDhRM",
        "colab": {
          "base_uri": "https://localhost:8080/",
          "height": 430
        },
        "outputId": "a7dd318e-c43a-4df5-9e15-8abc0238fa1f"
      },
      "execution_count": null,
      "outputs": [
        {
          "output_type": "display_data",
          "data": {
            "text/plain": [
              "<Figure size 640x480 with 1 Axes>"
            ],
            "image/png": "[encoded data removed]"
          },
          "metadata": {}
        }
      ]
    },
    {
      "cell_type": "markdown",
      "source": [
        "#### 선형회귀로 예측하기<hr>\n",
        "lnear_regerssion = lr<br>\n",
        "```lr.coef_``` : 기울기(weight) <br>\n",
        "```lr.intercept_``` : 절편, 편향(bias)"
      ],
      "metadata": {
        "id": "JEKP_o1Nei3A"
      }
    },
    {
      "cell_type": "code",
      "source": [
        "from sklearn.linear_model import LinearRegression"
      ],
      "metadata": {
        "id": "JzQaEvUpEB3i"
      },
      "execution_count": null,
      "outputs": []
    },
    {
      "cell_type": "code",
      "source": [
        "lr = LinearRegression()\n",
        "lr.fit(train_input, train_target)\n",
        "\n",
        "lr.predict([[50]])"
      ],
      "metadata": {
        "id": "2NTobkJgFyx7",
        "colab": {
          "base_uri": "https://localhost:8080/"
        },
        "outputId": "5174079e-0f39-44cc-f5f4-816e76b56e14"
      },
      "execution_count": null,
      "outputs": [
        {
          "output_type": "execute_result",
          "data": {
            "text/plain": [
              "array([1241.83860323])"
            ]
          },
          "metadata": {},
          "execution_count": 109
        }
      ]
    },
    {
      "cell_type": "code",
      "source": [
        "plt.scatter(train_input, train_target)\n",
        "plt.scatter(50, 1241, marker='^')\n",
        "plt.scatter(100, 3192, marker='^')\n",
        "plt.show()"
      ],
      "metadata": {
        "id": "9-ztpFfNF2tK",
        "colab": {
          "base_uri": "https://localhost:8080/",
          "height": 430
        },
        "outputId": "f6ba443e-6395-44a9-a915-d35a176c995c"
      },
      "execution_count": null,
      "outputs": [
        {
          "output_type": "display_data",
          "data": {
            "text/plain": [
              "<Figure size 640x480 with 1 Axes>"
            ],
            "image/png": "[encoded data removed]"
          },
          "metadata": {}
        }
      ]
    },
    {
      "cell_type": "code",
      "source": [
        "print(lr.coef_, lr.intercept_)"
      ],
      "metadata": {
        "id": "Sf1TqzkYGXGX",
        "colab": {
          "base_uri": "https://localhost:8080/"
        },
        "outputId": "a9408c34-9b1f-4533-98e9-2519cc84879d"
      },
      "execution_count": null,
      "outputs": [
        {
          "output_type": "stream",
          "name": "stdout",
          "text": [
            "[39.01714496] -709.0186449535477\n"
          ]
        }
      ]
    },
    {
      "cell_type": "code",
      "source": [
        "plt.scatter(train_input, train_target)\n",
        "plt.plot([15, 50], [lr.coef_*50 + lr.intercept_, lr.coef_*15 + lr.intercept_])\n",
        "plt.scatter(50, 1241, marker='^')\n",
        "plt.scatter(100, 3192, marker='^')\n",
        "plt.show()"
      ],
      "metadata": {
        "id": "rcZv2BK_HEZV",
        "colab": {
          "base_uri": "https://localhost:8080/",
          "height": 430
        },
        "outputId": "06f001a5-06c2-4ac8-c86a-dd1cc4108ed7"
      },
      "execution_count": null,
      "outputs": [
        {
          "output_type": "display_data",
          "data": {
            "text/plain": [
              "<Figure size 640x480 with 1 Axes>"
            ],
            "image/png": "[encoded data removed]"
          },
          "metadata": {}
        }
      ]
    },
    {
      "cell_type": "code",
      "source": [
        "lr.score(train_input, train_target), lr.score(test_input, test_target)"
      ],
      "metadata": {
        "id": "-VcQtfGOH_vF",
        "colab": {
          "base_uri": "https://localhost:8080/"
        },
        "outputId": "23217988-84ea-4c5c-c64c-867565fcc564"
      },
      "execution_count": null,
      "outputs": [
        {
          "output_type": "execute_result",
          "data": {
            "text/plain": [
              "(0.939846333997604, 0.8247503123313558)"
            ]
          },
          "metadata": {},
          "execution_count": 113
        }
      ]
    },
    {
      "cell_type": "code",
      "source": [
        "# 특성을 새로 만들어내는 것 : 특성공학\n",
        "\n",
        "train_poly = np.column_stack((train_input**2, train_input))\n",
        "test_poly = np.column_stack((test_input**2, test_input))\n",
        "\n",
        "print((train_poly.shape, test_poly.shape))"
      ],
      "metadata": {
        "id": "Co7XgcVVIYBL",
        "colab": {
          "base_uri": "https://localhost:8080/"
        },
        "outputId": "71d12164-6957-41a3-d8a7-e299ef38938c"
      },
      "execution_count": null,
      "outputs": [
        {
          "output_type": "stream",
          "name": "stdout",
          "text": [
            "((42, 2), (14, 2))\n"
          ]
        }
      ]
    },
    {
      "cell_type": "code",
      "source": [
        "lr = LinearRegression()\n",
        "lr.fit(train_poly, train_target)\n",
        "print(lr.coef_, lr.intercept_)"
      ],
      "metadata": {
        "id": "sZ42LpOtKBCp",
        "colab": {
          "base_uri": "https://localhost:8080/"
        },
        "outputId": "2bd39487-29d3-4e2b-cdc0-08b873e7029d"
      },
      "execution_count": null,
      "outputs": [
        {
          "output_type": "stream",
          "name": "stdout",
          "text": [
            "[  1.01433211 -21.55792498] 116.0502107827827\n"
          ]
        }
      ]
    },
    {
      "cell_type": "code",
      "source": [
        "lr.predict([[50**2, 50]])"
      ],
      "metadata": {
        "id": "fTVfeJXBKR5n",
        "colab": {
          "base_uri": "https://localhost:8080/"
        },
        "outputId": "f8d39140-cec5-4e3e-b304-dd3cfc80a7f4"
      },
      "execution_count": null,
      "outputs": [
        {
          "output_type": "execute_result",
          "data": {
            "text/plain": [
              "array([1573.98423528])"
            ]
          },
          "metadata": {},
          "execution_count": 116
        }
      ]
    },
    {
      "cell_type": "code",
      "source": [
        "lr.score(test_poly, test_target)"
      ],
      "metadata": {
        "id": "naexEQC9Khxb",
        "colab": {
          "base_uri": "https://localhost:8080/"
        },
        "outputId": "a8fdc6f9-c2a0-409f-ebea-4fc5c805bf8c"
      },
      "execution_count": null,
      "outputs": [
        {
          "output_type": "execute_result",
          "data": {
            "text/plain": [
              "0.9775935108325122"
            ]
          },
          "metadata": {},
          "execution_count": 117
        }
      ]
    },
    {
      "cell_type": "markdown",
      "source": [
        "#### 다항회귀로 예측하기<hr>\n",
        "다항회귀(2차방정식)도 선형회귀인 이유 : 선형관계(1차방정식(x^2 => X, y)로 나타낼 수 있음)를 가진다."
      ],
      "metadata": {
        "id": "GWlG46jkfTTM"
      }
    },
    {
      "cell_type": "code",
      "source": [
        "pt = np.arange(15,50)"
      ],
      "metadata": {
        "id": "5LKCkxi_KnLc"
      },
      "execution_count": null,
      "outputs": []
    },
    {
      "cell_type": "code",
      "source": [
        "pred = lr.coef_[0]*(pt**2)+lr.coef_[1]*pt+lr.intercept_\n",
        "pred"
      ],
      "metadata": {
        "id": "TK57QCwgK-AG",
        "colab": {
          "base_uri": "https://localhost:8080/"
        },
        "outputId": "f5715c19-f92f-45f8-ad2e-bfa54b8a000a"
      },
      "execution_count": null,
      "outputs": [
        {
          "output_type": "execute_result",
          "data": {
            "text/plain": [
              "array([  20.90606071,   30.79243112,   42.70746575,   56.6511646 ,\n",
              "         72.62352767,   90.62455496,  110.65424646,  132.71260219,\n",
              "        156.79962213,  182.91530629,  211.05965467,  241.23266727,\n",
              "        273.43434409,  307.66468513,  343.92369038,  382.21135986,\n",
              "        422.52769355,  464.87269146,  509.24635359,  555.64867994,\n",
              "        604.07967051,  654.5393253 ,  707.0276443 ,  761.54462753,\n",
              "        818.09027497,  876.66458663,  937.26756251,  999.89920261,\n",
              "       1064.55950693, 1131.24847547, 1199.96610822, 1270.7124052 ,\n",
              "       1343.48736639, 1418.2909918 , 1495.12328143])"
            ]
          },
          "metadata": {},
          "execution_count": 119
        }
      ]
    },
    {
      "cell_type": "code",
      "source": [
        "plt.scatter(train_input, train_target)\n",
        "plt.plot(pt, pred)\n",
        "plt.show()"
      ],
      "metadata": {
        "id": "nJ4TtC_JLSsA",
        "colab": {
          "base_uri": "https://localhost:8080/",
          "height": 430
        },
        "outputId": "74fcbf51-d3df-46b0-e429-1dd31aea5a91"
      },
      "execution_count": null,
      "outputs": [
        {
          "output_type": "display_data",
          "data": {
            "text/plain": [
              "<Figure size 640x480 with 1 Axes>"
            ],
            "image/png": "[encoded data removed]"
          },
          "metadata": {}
        }
      ]
    },
    {
      "cell_type": "code",
      "source": [],
      "metadata": {
        "id": "_VBV1iF7LbDi"
      },
      "execution_count": null,
      "outputs": []
    }
  ]
}